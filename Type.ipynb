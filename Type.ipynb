{
 "cells": [
  {
   "cell_type": "code",
   "execution_count": 1,
   "id": "253c622a",
   "metadata": {},
   "outputs": [],
   "source": [
    "import pandas as pd\n",
    "from sklearn.ensemble import RandomForestClassifier\n",
    "from sklearn import preprocessing \n",
    "import matplotlib.pyplot as plt\n",
    "import pickle\n",
    "import seaborn as sns\n",
    "from sklearn.metrics import confusion_matrix  \n",
    "from sklearn.metrics import accuracy_score, classification_report\n",
    "from sklearn import metrics\n",
    "from sklearn import tree\n",
    "from sklearn import model_selection\n",
    "from sklearn.linear_model import LogisticRegression\n",
    "from sklearn.svm import SVC\n",
    "from sklearn.neighbors import KNeighborsClassifier\n",
    "from sklearn.tree import DecisionTreeClassifier\n",
    "from sklearn.naive_bayes import GaussianNB\n",
    "from sklearn.discriminant_analysis import LinearDiscriminantAnalysis\n",
    "from sklearn.datasets import make_classification\n",
    "from sklearn.model_selection import train_test_split\n",
    "import numpy as np"
   ]
  },
  {
   "cell_type": "code",
   "execution_count": 2,
   "id": "c35c821d",
   "metadata": {},
   "outputs": [],
   "source": [
    "data=pd.read_csv('banktransaction.csv')\n",
    "\n",
    "\n",
    "data = data[data.typeoffraud != 'none']\n",
    "data.drop(['date'],axis=1,inplace=True)\n",
    "typeoferror=data['typeoffraud']"
   ]
  },
  {
   "cell_type": "code",
   "execution_count": 3,
   "id": "5aea2a96",
   "metadata": {},
   "outputs": [
    {
     "data": {
      "text/html": [
       "<div>\n",
       "<style scoped>\n",
       "    .dataframe tbody tr th:only-of-type {\n",
       "        vertical-align: middle;\n",
       "    }\n",
       "\n",
       "    .dataframe tbody tr th {\n",
       "        vertical-align: top;\n",
       "    }\n",
       "\n",
       "    .dataframe thead th {\n",
       "        text-align: right;\n",
       "    }\n",
       "</style>\n",
       "<table border=\"1\" class=\"dataframe\">\n",
       "  <thead>\n",
       "    <tr style=\"text-align: right;\">\n",
       "      <th></th>\n",
       "      <th>typeofaction</th>\n",
       "      <th>sourceid</th>\n",
       "      <th>destinationid</th>\n",
       "      <th>amountofmoney</th>\n",
       "      <th>isfraud</th>\n",
       "      <th>typeoffraud</th>\n",
       "    </tr>\n",
       "  </thead>\n",
       "  <tbody>\n",
       "    <tr>\n",
       "      <th>0</th>\n",
       "      <td>cash-in</td>\n",
       "      <td>30105</td>\n",
       "      <td>28942</td>\n",
       "      <td>494528</td>\n",
       "      <td>1</td>\n",
       "      <td>type1</td>\n",
       "    </tr>\n",
       "    <tr>\n",
       "      <th>1</th>\n",
       "      <td>cash-in</td>\n",
       "      <td>30105</td>\n",
       "      <td>8692</td>\n",
       "      <td>494528</td>\n",
       "      <td>1</td>\n",
       "      <td>type1</td>\n",
       "    </tr>\n",
       "    <tr>\n",
       "      <th>2</th>\n",
       "      <td>cash-in</td>\n",
       "      <td>30105</td>\n",
       "      <td>60094</td>\n",
       "      <td>494528</td>\n",
       "      <td>1</td>\n",
       "      <td>type1</td>\n",
       "    </tr>\n",
       "    <tr>\n",
       "      <th>3</th>\n",
       "      <td>cash-in</td>\n",
       "      <td>30105</td>\n",
       "      <td>20575</td>\n",
       "      <td>494528</td>\n",
       "      <td>1</td>\n",
       "      <td>type1</td>\n",
       "    </tr>\n",
       "    <tr>\n",
       "      <th>4</th>\n",
       "      <td>cash-in</td>\n",
       "      <td>30105</td>\n",
       "      <td>45938</td>\n",
       "      <td>494528</td>\n",
       "      <td>1</td>\n",
       "      <td>type1</td>\n",
       "    </tr>\n",
       "    <tr>\n",
       "      <th>...</th>\n",
       "      <td>...</td>\n",
       "      <td>...</td>\n",
       "      <td>...</td>\n",
       "      <td>...</td>\n",
       "      <td>...</td>\n",
       "      <td>...</td>\n",
       "    </tr>\n",
       "    <tr>\n",
       "      <th>1394</th>\n",
       "      <td>transfer</td>\n",
       "      <td>84359</td>\n",
       "      <td>95498</td>\n",
       "      <td>281507</td>\n",
       "      <td>1</td>\n",
       "      <td>type3</td>\n",
       "    </tr>\n",
       "    <tr>\n",
       "      <th>1395</th>\n",
       "      <td>transfer</td>\n",
       "      <td>82135</td>\n",
       "      <td>95498</td>\n",
       "      <td>281507</td>\n",
       "      <td>1</td>\n",
       "      <td>type3</td>\n",
       "    </tr>\n",
       "    <tr>\n",
       "      <th>1396</th>\n",
       "      <td>transfer</td>\n",
       "      <td>15214</td>\n",
       "      <td>95498</td>\n",
       "      <td>281507</td>\n",
       "      <td>1</td>\n",
       "      <td>type3</td>\n",
       "    </tr>\n",
       "    <tr>\n",
       "      <th>1397</th>\n",
       "      <td>transfer</td>\n",
       "      <td>4986</td>\n",
       "      <td>95498</td>\n",
       "      <td>281507</td>\n",
       "      <td>1</td>\n",
       "      <td>type3</td>\n",
       "    </tr>\n",
       "    <tr>\n",
       "      <th>1398</th>\n",
       "      <td>transfer</td>\n",
       "      <td>89938</td>\n",
       "      <td>95498</td>\n",
       "      <td>281507</td>\n",
       "      <td>1</td>\n",
       "      <td>type3</td>\n",
       "    </tr>\n",
       "  </tbody>\n",
       "</table>\n",
       "<p>1399 rows × 6 columns</p>\n",
       "</div>"
      ],
      "text/plain": [
       "     typeofaction  sourceid  destinationid  amountofmoney  isfraud typeoffraud\n",
       "0         cash-in     30105          28942         494528        1       type1\n",
       "1         cash-in     30105           8692         494528        1       type1\n",
       "2         cash-in     30105          60094         494528        1       type1\n",
       "3         cash-in     30105          20575         494528        1       type1\n",
       "4         cash-in     30105          45938         494528        1       type1\n",
       "...           ...       ...            ...            ...      ...         ...\n",
       "1394     transfer     84359          95498         281507        1       type3\n",
       "1395     transfer     82135          95498         281507        1       type3\n",
       "1396     transfer     15214          95498         281507        1       type3\n",
       "1397     transfer      4986          95498         281507        1       type3\n",
       "1398     transfer     89938          95498         281507        1       type3\n",
       "\n",
       "[1399 rows x 6 columns]"
      ]
     },
     "execution_count": 3,
     "metadata": {},
     "output_type": "execute_result"
    }
   ],
   "source": [
    "data"
   ]
  },
  {
   "cell_type": "code",
   "execution_count": 4,
   "id": "64a3fd56",
   "metadata": {},
   "outputs": [],
   "source": [
    "typeof=data['typeoffraud']\n",
    "data.drop(['typeoffraud'],axis=1,inplace=True)\n",
    "#data.drop(['date'],axis=1,inplace=True)\n",
    "\n",
    "label_encoder = preprocessing.LabelEncoder() \n",
    "\n",
    "data['typeofaction']= label_encoder.fit_transform(data['typeofaction']) "
   ]
  },
  {
   "cell_type": "code",
   "execution_count": 5,
   "id": "95ccb145",
   "metadata": {},
   "outputs": [],
   "source": [
    "X=data\n",
    "Y=typeoferror"
   ]
  },
  {
   "cell_type": "code",
   "execution_count": 6,
   "id": "277f8a9f",
   "metadata": {},
   "outputs": [],
   "source": [
    "x_train, x_test, y_train, y_test = train_test_split(\n",
    "        X, Y\n",
    "        , test_size=.2, random_state=42)"
   ]
  },
  {
   "cell_type": "code",
   "execution_count": 7,
   "id": "e5a72a43",
   "metadata": {},
   "outputs": [],
   "source": [
    "dec = tree.DecisionTreeClassifier().fit(x_train, y_train)\n",
    "dec_predict = dec.predict(x_test)"
   ]
  },
  {
   "cell_type": "code",
   "execution_count": 8,
   "id": "ebceb5e7",
   "metadata": {},
   "outputs": [
    {
     "data": {
      "text/plain": [
       "array(['type2', 'type2', 'type1', 'type2', 'type1', 'type2', 'type1',\n",
       "       'type2', 'type3', 'type2', 'type3', 'type3', 'type2', 'type2',\n",
       "       'type1', 'type1', 'type2', 'type2', 'type1', 'type1', 'type1',\n",
       "       'type1', 'type1', 'type2', 'type1', 'type1', 'type1', 'type3',\n",
       "       'type3', 'type2', 'type2', 'type2', 'type2', 'type2', 'type1',\n",
       "       'type1', 'type1', 'type2', 'type3', 'type3', 'type1', 'type3',\n",
       "       'type2', 'type2', 'type1', 'type3', 'type3', 'type2', 'type1',\n",
       "       'type2', 'type2', 'type1', 'type2', 'type3', 'type3', 'type2',\n",
       "       'type1', 'type2', 'type1', 'type2', 'type1', 'type1', 'type2',\n",
       "       'type3', 'type2', 'type3', 'type3', 'type1', 'type1', 'type3',\n",
       "       'type3', 'type2', 'type2', 'type2', 'type1', 'type1', 'type3',\n",
       "       'type1', 'type3', 'type3', 'type1', 'type3', 'type2', 'type2',\n",
       "       'type2', 'type3', 'type3', 'type1', 'type3', 'type2', 'type1',\n",
       "       'type2', 'type3', 'type2', 'type3', 'type2', 'type3', 'type3',\n",
       "       'type1', 'type3', 'type2', 'type1', 'type2', 'type3', 'type2',\n",
       "       'type2', 'type2', 'type3', 'type2', 'type2', 'type2', 'type3',\n",
       "       'type3', 'type1', 'type3', 'type3', 'type2', 'type1', 'type1',\n",
       "       'type1', 'type3', 'type3', 'type2', 'type2', 'type1', 'type1',\n",
       "       'type1', 'type1', 'type1', 'type3', 'type2', 'type2', 'type1',\n",
       "       'type2', 'type3', 'type1', 'type3', 'type2', 'type2', 'type2',\n",
       "       'type3', 'type1', 'type3', 'type2', 'type3', 'type3', 'type1',\n",
       "       'type3', 'type2', 'type2', 'type3', 'type3', 'type3', 'type2',\n",
       "       'type2', 'type3', 'type3', 'type3', 'type2', 'type3', 'type2',\n",
       "       'type2', 'type3', 'type1', 'type3', 'type1', 'type1', 'type2',\n",
       "       'type2', 'type2', 'type1', 'type1', 'type3', 'type2', 'type2',\n",
       "       'type2', 'type1', 'type3', 'type3', 'type2', 'type3', 'type2',\n",
       "       'type2', 'type2', 'type1', 'type3', 'type3', 'type2', 'type3',\n",
       "       'type1', 'type3', 'type3', 'type3', 'type1', 'type1', 'type1',\n",
       "       'type3', 'type3', 'type2', 'type3', 'type3', 'type3', 'type2',\n",
       "       'type1', 'type1', 'type2', 'type3', 'type2', 'type3', 'type3',\n",
       "       'type3', 'type3', 'type2', 'type3', 'type3', 'type3', 'type2',\n",
       "       'type2', 'type1', 'type3', 'type3', 'type2', 'type2', 'type2',\n",
       "       'type2', 'type3', 'type1', 'type1', 'type3', 'type1', 'type2',\n",
       "       'type2', 'type2', 'type3', 'type2', 'type3', 'type2', 'type2',\n",
       "       'type1', 'type3', 'type1', 'type3', 'type1', 'type2', 'type1',\n",
       "       'type1', 'type3', 'type3', 'type2', 'type3', 'type1', 'type2',\n",
       "       'type1', 'type3', 'type2', 'type2', 'type2', 'type1', 'type1',\n",
       "       'type2', 'type3', 'type1', 'type2', 'type2', 'type3', 'type3',\n",
       "       'type3', 'type3', 'type1', 'type1', 'type3', 'type3', 'type2',\n",
       "       'type2', 'type2', 'type1', 'type3', 'type1', 'type1', 'type1'],\n",
       "      dtype=object)"
      ]
     },
     "execution_count": 8,
     "metadata": {},
     "output_type": "execute_result"
    }
   ],
   "source": [
    "dec_predict"
   ]
  },
  {
   "cell_type": "code",
   "execution_count": 9,
   "id": "1ba6c5f9",
   "metadata": {},
   "outputs": [
    {
     "name": "stdout",
     "output_type": "stream",
     "text": [
      "              precision    recall  f1-score   support\n",
      "\n",
      "       type1       1.00      1.00      1.00        80\n",
      "       type2       1.00      1.00      1.00       103\n",
      "       type3       1.00      1.00      1.00        97\n",
      "\n",
      "    accuracy                           1.00       280\n",
      "   macro avg       1.00      1.00      1.00       280\n",
      "weighted avg       1.00      1.00      1.00       280\n",
      "\n"
     ]
    }
   ],
   "source": [
    "print(classification_report(\n",
    "    y_test,\n",
    "    dec_predict,\n",
    "    output_dict=False,\n",
    "    target_names=[ 'type1','type2','type3']\n",
    "))"
   ]
  },
  {
   "cell_type": "code",
   "execution_count": 10,
   "id": "d49b8a4b",
   "metadata": {},
   "outputs": [],
   "source": [
    "with open('model/Model_class_ml.pkl', 'wb') as file:\n",
    "    pickle.dump(dec, file)"
   ]
  },
  {
   "cell_type": "code",
   "execution_count": null,
   "id": "010ae1d2",
   "metadata": {},
   "outputs": [],
   "source": []
  }
 ],
 "metadata": {
  "kernelspec": {
   "display_name": "Python 3 (ipykernel)",
   "language": "python",
   "name": "python3"
  },
  "language_info": {
   "codemirror_mode": {
    "name": "ipython",
    "version": 3
   },
   "file_extension": ".py",
   "mimetype": "text/x-python",
   "name": "python",
   "nbconvert_exporter": "python",
   "pygments_lexer": "ipython3",
   "version": "3.11.5"
  }
 },
 "nbformat": 4,
 "nbformat_minor": 5
}

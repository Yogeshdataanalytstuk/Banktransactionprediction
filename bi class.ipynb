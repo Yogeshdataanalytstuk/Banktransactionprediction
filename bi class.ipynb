{
 "cells": [
  {
   "cell_type": "code",
   "execution_count": 66,
   "id": "59c90100",
   "metadata": {},
   "outputs": [],
   "source": [
    "import pandas as pd\n",
    "from sklearn import preprocessing \n",
    "import matplotlib.pyplot as plt\n",
    "import seaborn as sns\n",
    "from sklearn import metrics\n",
    "from sklearn import model_selection\n",
    "from sklearn.linear_model import LogisticRegression\n",
    "from sklearn.svm import SVC\n",
    "from sklearn.neighbors import KNeighborsClassifier\n",
    "from sklearn.tree import DecisionTreeClassifier\n",
    "from sklearn.naive_bayes import GaussianNB\n",
    "from sklearn.discriminant_analysis import LinearDiscriminantAnalysis"
   ]
  },
  {
   "cell_type": "code",
   "execution_count": 67,
   "id": "0098c2c6",
   "metadata": {},
   "outputs": [],
   "source": [
    "data=pd.read_csv('banktransaction.csv')"
   ]
  },
  {
   "cell_type": "code",
   "execution_count": 68,
   "id": "bc80bd32",
   "metadata": {},
   "outputs": [
    {
     "data": {
      "text/html": [
       "<div>\n",
       "<style scoped>\n",
       "    .dataframe tbody tr th:only-of-type {\n",
       "        vertical-align: middle;\n",
       "    }\n",
       "\n",
       "    .dataframe tbody tr th {\n",
       "        vertical-align: top;\n",
       "    }\n",
       "\n",
       "    .dataframe thead th {\n",
       "        text-align: right;\n",
       "    }\n",
       "</style>\n",
       "<table border=\"1\" class=\"dataframe\">\n",
       "  <thead>\n",
       "    <tr style=\"text-align: right;\">\n",
       "      <th></th>\n",
       "      <th>typeofaction</th>\n",
       "      <th>sourceid</th>\n",
       "      <th>destinationid</th>\n",
       "      <th>amountofmoney</th>\n",
       "      <th>isfraud</th>\n",
       "      <th>typeoffraud</th>\n",
       "    </tr>\n",
       "  </thead>\n",
       "  <tbody>\n",
       "    <tr>\n",
       "      <th>0</th>\n",
       "      <td>cash-in</td>\n",
       "      <td>30105</td>\n",
       "      <td>28942</td>\n",
       "      <td>494528</td>\n",
       "      <td>1</td>\n",
       "      <td>type1</td>\n",
       "    </tr>\n",
       "    <tr>\n",
       "      <th>1</th>\n",
       "      <td>cash-in</td>\n",
       "      <td>30105</td>\n",
       "      <td>8692</td>\n",
       "      <td>494528</td>\n",
       "      <td>1</td>\n",
       "      <td>type1</td>\n",
       "    </tr>\n",
       "    <tr>\n",
       "      <th>2</th>\n",
       "      <td>cash-in</td>\n",
       "      <td>30105</td>\n",
       "      <td>60094</td>\n",
       "      <td>494528</td>\n",
       "      <td>1</td>\n",
       "      <td>type1</td>\n",
       "    </tr>\n",
       "    <tr>\n",
       "      <th>3</th>\n",
       "      <td>cash-in</td>\n",
       "      <td>30105</td>\n",
       "      <td>20575</td>\n",
       "      <td>494528</td>\n",
       "      <td>1</td>\n",
       "      <td>type1</td>\n",
       "    </tr>\n",
       "    <tr>\n",
       "      <th>4</th>\n",
       "      <td>cash-in</td>\n",
       "      <td>30105</td>\n",
       "      <td>45938</td>\n",
       "      <td>494528</td>\n",
       "      <td>1</td>\n",
       "      <td>type1</td>\n",
       "    </tr>\n",
       "    <tr>\n",
       "      <th>...</th>\n",
       "      <td>...</td>\n",
       "      <td>...</td>\n",
       "      <td>...</td>\n",
       "      <td>...</td>\n",
       "      <td>...</td>\n",
       "      <td>...</td>\n",
       "    </tr>\n",
       "    <tr>\n",
       "      <th>2335</th>\n",
       "      <td>transfer</td>\n",
       "      <td>14945</td>\n",
       "      <td>43793</td>\n",
       "      <td>106907</td>\n",
       "      <td>0</td>\n",
       "      <td>none</td>\n",
       "    </tr>\n",
       "    <tr>\n",
       "      <th>2336</th>\n",
       "      <td>transfer</td>\n",
       "      <td>9532</td>\n",
       "      <td>43793</td>\n",
       "      <td>106907</td>\n",
       "      <td>0</td>\n",
       "      <td>none</td>\n",
       "    </tr>\n",
       "    <tr>\n",
       "      <th>2337</th>\n",
       "      <td>transfer</td>\n",
       "      <td>27332</td>\n",
       "      <td>43793</td>\n",
       "      <td>106907</td>\n",
       "      <td>0</td>\n",
       "      <td>none</td>\n",
       "    </tr>\n",
       "    <tr>\n",
       "      <th>2338</th>\n",
       "      <td>transfer</td>\n",
       "      <td>32685</td>\n",
       "      <td>43793</td>\n",
       "      <td>106907</td>\n",
       "      <td>0</td>\n",
       "      <td>none</td>\n",
       "    </tr>\n",
       "    <tr>\n",
       "      <th>2339</th>\n",
       "      <td>transfer</td>\n",
       "      <td>26390</td>\n",
       "      <td>43793</td>\n",
       "      <td>106907</td>\n",
       "      <td>0</td>\n",
       "      <td>none</td>\n",
       "    </tr>\n",
       "  </tbody>\n",
       "</table>\n",
       "<p>2340 rows × 6 columns</p>\n",
       "</div>"
      ],
      "text/plain": [
       "     typeofaction  sourceid  destinationid  amountofmoney  isfraud typeoffraud\n",
       "0         cash-in     30105          28942         494528        1       type1\n",
       "1         cash-in     30105           8692         494528        1       type1\n",
       "2         cash-in     30105          60094         494528        1       type1\n",
       "3         cash-in     30105          20575         494528        1       type1\n",
       "4         cash-in     30105          45938         494528        1       type1\n",
       "...           ...       ...            ...            ...      ...         ...\n",
       "2335     transfer     14945          43793         106907        0        none\n",
       "2336     transfer      9532          43793         106907        0        none\n",
       "2337     transfer     27332          43793         106907        0        none\n",
       "2338     transfer     32685          43793         106907        0        none\n",
       "2339     transfer     26390          43793         106907        0        none\n",
       "\n",
       "[2340 rows x 6 columns]"
      ]
     },
     "execution_count": 68,
     "metadata": {},
     "output_type": "execute_result"
    }
   ],
   "source": [
    "Unchanged_data=data.copy()\n",
    "\n",
    "data.drop(['date'],axis=1)"
   ]
  },
  {
   "cell_type": "code",
   "execution_count": 69,
   "id": "405a661b",
   "metadata": {},
   "outputs": [
    {
     "data": {
      "text/plain": [
       "array([0, 1])"
      ]
     },
     "execution_count": 69,
     "metadata": {},
     "output_type": "execute_result"
    }
   ],
   "source": [
    "label_encoder = preprocessing.LabelEncoder() \n",
    "\n",
    "data['typeofaction']= label_encoder.fit_transform(data['typeofaction']) \n",
    "\n",
    "data['typeofaction'].unique() \n"
   ]
  },
  {
   "cell_type": "code",
   "execution_count": 70,
   "id": "37881139",
   "metadata": {},
   "outputs": [],
   "source": [
    "typeoffraud=data['typeoffraud']\n",
    "data.drop(['date'],inplace=True,axis=1\n",
    "         )\n",
    "data.drop(['typeoffraud'],inplace=True,axis=1\n",
    "         )"
   ]
  },
  {
   "cell_type": "code",
   "execution_count": 71,
   "id": "bb8101d1",
   "metadata": {},
   "outputs": [
    {
     "data": {
      "text/plain": [
       "<Axes: ylabel='sourceid'>"
      ]
     },
     "execution_count": 71,
     "metadata": {},
     "output_type": "execute_result"
    },
    {
     "data": {
      "image/png": "[encoded data removed]",
      "text/plain": [
       "<Figure size 640x480 with 1 Axes>"
      ]
     },
     "metadata": {},
     "output_type": "display_data"
    }
   ],
   "source": [
    "data.groupby(['isfraud']).sum().plot(kind='pie', y='sourceid',autopct='%1.0f%%')"
   ]
  },
  {
   "cell_type": "code",
   "execution_count": 72,
   "id": "10778398",
   "metadata": {},
   "outputs": [],
   "source": [
    "X=data.drop(['isfraud'],axis=1\n",
    "         )\n",
    "y=data['isfraud']"
   ]
  },
  {
   "cell_type": "code",
   "execution_count": 73,
   "id": "0ff3b172",
   "metadata": {},
   "outputs": [
    {
     "data": {
      "text/plain": [
       "Index(['typeofaction', 'sourceid', 'destinationid', 'amountofmoney'], dtype='object')"
      ]
     },
     "execution_count": 73,
     "metadata": {},
     "output_type": "execute_result"
    }
   ],
   "source": [
    "X.columns"
   ]
  },
  {
   "cell_type": "code",
   "execution_count": 74,
   "id": "3b93a322",
   "metadata": {},
   "outputs": [],
   "source": [
    "from sklearn.model_selection import train_test_split\n",
    "x_train, x_test, y_train, y_test = train_test_split(\n",
    "    X, y, test_size=0.33, random_state=42)"
   ]
  },
  {
   "cell_type": "code",
   "execution_count": null,
   "id": "755cbb34",
   "metadata": {},
   "outputs": [],
   "source": []
  },
  {
   "cell_type": "markdown",
   "id": "52ae2f37",
   "metadata": {},
   "source": [
    "### XG"
   ]
  },
  {
   "cell_type": "code",
   "execution_count": 75,
   "id": "227c0153",
   "metadata": {},
   "outputs": [
    {
     "name": "stdout",
     "output_type": "stream",
     "text": [
      "0.9568106312292358\n",
      "0.9663648124191462\n"
     ]
    }
   ],
   "source": [
    "from xgboost import XGBClassifier\n",
    "from sklearn.metrics import accuracy_score\n",
    "xgb_model = XGBClassifier().fit(x_train, y_train)\n",
    "\n",
    "# predict\n",
    "xgb_y_predict = xgb_model.predict(x_test)\n",
    "\n",
    "# accuracy score\n",
    "xgb_score = accuracy_score(xgb_y_predict, y_test)\n",
    "auc = metrics.roc_auc_score(y_test, xgb_y_predict)\n",
    "print(auc)\n",
    "print(xgb_score)"
   ]
  },
  {
   "cell_type": "markdown",
   "id": "60ee6a6b",
   "metadata": {},
   "source": [
    "### LR\n"
   ]
  },
  {
   "cell_type": "code",
   "execution_count": 76,
   "id": "9e39d04c",
   "metadata": {},
   "outputs": [
    {
     "name": "stdout",
     "output_type": "stream",
     "text": [
      "0.5022629371023143\n",
      "0.6119016817593791\n"
     ]
    }
   ],
   "source": [
    "from sklearn.linear_model import LogisticRegression\n",
    "clf = LogisticRegression(random_state=0).fit(x_train, y_train)\n",
    "clf_pred=clf.predict(x_test)\n",
    "clf_score = accuracy_score(clf_pred, y_test)\n",
    "auc = metrics.roc_auc_score(y_test, clf_pred)\n",
    "print(auc)\n",
    "print(clf_score)\n"
   ]
  },
  {
   "cell_type": "markdown",
   "id": "d8d0ce8d",
   "metadata": {},
   "source": [
    "### Multiple model \n"
   ]
  },
  {
   "cell_type": "code",
   "execution_count": 77,
   "id": "012492a1",
   "metadata": {},
   "outputs": [],
   "source": [
    "models = [('LogReg', LogisticRegression()), \n",
    "          ('SVM', SVC()), \n",
    "          ('DecTree', DecisionTreeClassifier()),\n",
    "          ('KNN', KNeighborsClassifier()),\n",
    "          ('LinDisc', LinearDiscriminantAnalysis()),\n",
    "          ('GaussianNB', GaussianNB())]"
   ]
  },
  {
   "cell_type": "code",
   "execution_count": 78,
   "id": "ba5b20ab",
   "metadata": {},
   "outputs": [
    {
     "name": "stdout",
     "output_type": "stream",
     "text": [
      "LogisticRegression()\n",
      "0.5022629371023143\n",
      "0.6119016817593791\n",
      "SVC()\n",
      "0.8222345008164874\n",
      "0.8564036222509702\n",
      "DecisionTreeClassifier()\n",
      "0.9450137958218369\n",
      "0.9534282018111255\n",
      "KNeighborsClassifier()\n",
      "0.8906293991778816\n",
      "0.906856403622251\n",
      "LinearDiscriminantAnalysis()\n",
      "0.5162241680274791\n",
      "0.6054333764553687\n",
      "GaussianNB()\n",
      "0.6615378118137283\n",
      "0.7270375161707633\n"
     ]
    }
   ],
   "source": [
    "outcome=list()\n",
    "model_names=list()\n",
    "for model_name, model in models:\n",
    "    model_name = model.fit(x_train, y_train)\n",
    "    model_name_pred=model_name.predict(x_test)\n",
    "    model_name_score = accuracy_score(model_name_pred, y_test)\n",
    "    auc = metrics.roc_auc_score(y_test, model_name_pred)\n",
    "    print(model_name)\n",
    "    print(auc)\n",
    "    print(model_name_score)"
   ]
  },
  {
   "cell_type": "code",
   "execution_count": 80,
   "id": "da7cbb3a",
   "metadata": {},
   "outputs": [
    {
     "name": "stdout",
     "output_type": "stream",
     "text": [
      "           Specs          Score\n",
      "3  amountofmoney  296031.222043\n",
      "2  destinationid  265713.164204\n",
      "1       sourceid   31801.039523\n",
      "0   typeofaction       2.591578\n"
     ]
    }
   ],
   "source": [
    "import pandas as pd\n",
    "import numpy as np\n",
    "from sklearn.feature_selection import SelectKBest\n",
    "from sklearn.feature_selection import chi2\n",
    "\n",
    "bestfeatures = SelectKBest(score_func=chi2, k=4)\n",
    "fit = bestfeatures.fit(X,y)\n",
    "dfscores = pd.DataFrame(fit.scores_)\n",
    "dfcolumns = pd.DataFrame(X.columns)\n",
    "#concat two dataframes for better visualization \n",
    "featureScores = pd.concat([dfcolumns,dfscores],axis=1)\n",
    "featureScores.columns = ['Specs','Score']  #naming the dataframe columns\n",
    "print(featureScores.nlargest(10,'Score'))  #print 10 best features"
   ]
  },
  {
   "cell_type": "code",
   "execution_count": 81,
   "id": "626de72f",
   "metadata": {},
   "outputs": [],
   "source": [
    "import numpy as np\n",
    "def prep_data(data: pd.DataFrame) -> (np.ndarray, np.ndarray):\n",
    "    \"\"\"\n",
    "    Convert the DataFrame into two variable\n",
    "    X: data columns (V1 - V28)\n",
    "    y: lable column\n",
    "    \"\"\"\n",
    "    X = data.iloc[:].values\n",
    "    y = data.isfraud.values\n",
    "    return X, y\n",
    "X, y = prep_data(data)"
   ]
  },
  {
   "cell_type": "code",
   "execution_count": 82,
   "id": "e6563161",
   "metadata": {},
   "outputs": [
    {
     "data": {
      "image/png": "[encoded data removed]",
      "text/plain": [
       "<Figure size 640x480 with 1 Axes>"
      ]
     },
     "metadata": {},
     "output_type": "display_data"
    }
   ],
   "source": [
    "def plot_data(X: np.ndarray, y: np.ndarray):\n",
    "    plt.scatter(X[y == 0, 0], X[y == 0, 1], label=\"Class #0\", alpha=0.5, linewidth=0.15)\n",
    "    plt.scatter(X[y == 1, 0], X[y == 1, 1], label=\"Class #1\", alpha=0.5, linewidth=0.15, c='r')\n",
    "    plt.legend()\n",
    "    return plt.show()\n",
    "plot_data(X, y)"
   ]
  },
  {
   "cell_type": "markdown",
   "id": "c7f00fd9",
   "metadata": {},
   "source": [
    "### Over sampling"
   ]
  },
  {
   "cell_type": "code",
   "execution_count": 83,
   "id": "53fa7ea0",
   "metadata": {},
   "outputs": [
    {
     "data": {
      "text/plain": [
       "array([[      0,   30105,   28942,  494528,       1],\n",
       "       [      0,   30105,    8692,  494528,       1],\n",
       "       [      0,   30105,   60094,  494528,       1],\n",
       "       ...,\n",
       "       [      0,   69663,   51624, 3530283,       0],\n",
       "       [      0,   82930,   39266, 6445058,       0],\n",
       "       [      1,   87134,   43793,  106907,       0]])"
      ]
     },
     "execution_count": 83,
     "metadata": {},
     "output_type": "execute_result"
    }
   ],
   "source": [
    "from imblearn.over_sampling import RandomOverSampler\n",
    "\n",
    "method = RandomOverSampler(random_state=42)\n",
    "X_resampled, y_resampled =  method.fit_resample(X, y)\n",
    "\n",
    "X_resampled"
   ]
  },
  {
   "cell_type": "code",
   "execution_count": 86,
   "id": "0c7ca414",
   "metadata": {},
   "outputs": [],
   "source": [
    "newdata = pd.DataFrame(X_resampled, columns = ['1','2','3','4','5'])\n",
    "newdata['9']=pd.DataFrame(y_resampled)"
   ]
  },
  {
   "cell_type": "code",
   "execution_count": 87,
   "id": "a7c36c52",
   "metadata": {},
   "outputs": [
    {
     "data": {
      "text/plain": [
       "<Axes: ylabel='2'>"
      ]
     },
     "execution_count": 87,
     "metadata": {},
     "output_type": "execute_result"
    },
    {
     "data": {
      "image/png": "[encoded data removed]",
      "text/plain": [
       "<Figure size 640x480 with 1 Axes>"
      ]
     },
     "metadata": {},
     "output_type": "display_data"
    }
   ],
   "source": [
    "newdata.groupby(['9']).sum().plot(kind='pie', y='2',autopct='%1.0f%%')"
   ]
  },
  {
   "cell_type": "code",
   "execution_count": 88,
   "id": "714746f9",
   "metadata": {},
   "outputs": [],
   "source": [
    "from sklearn.model_selection import train_test_split\n",
    "x_train, x_test, y_train, y_test = train_test_split(\n",
    "    X_resampled, y_resampled, test_size=0.33, random_state=42)"
   ]
  },
  {
   "cell_type": "code",
   "execution_count": 89,
   "id": "0ae551ac",
   "metadata": {},
   "outputs": [
    {
     "name": "stdout",
     "output_type": "stream",
     "text": [
      "0.5128989635849093\n",
      "0.5140692640692641\n"
     ]
    }
   ],
   "source": [
    "clf = LogisticRegression(random_state=0).fit(x_train, y_train)\n",
    "clf_pred=clf.predict(x_test)\n",
    "clf_score = accuracy_score(clf_pred, y_test)\n",
    "auc = metrics.roc_auc_score(y_test, clf_pred)\n",
    "print(auc)\n",
    "print(clf_score)"
   ]
  },
  {
   "cell_type": "code",
   "execution_count": 90,
   "id": "881dbd79",
   "metadata": {},
   "outputs": [
    {
     "name": "stdout",
     "output_type": "stream",
     "text": [
      "1.0\n",
      "1.0\n"
     ]
    }
   ],
   "source": [
    "from xgboost import XGBClassifier\n",
    "from sklearn.metrics import accuracy_score\n",
    "xgb_model = XGBClassifier().fit(x_train, y_train)\n",
    "\n",
    "# predict\n",
    "xgb_y_predict = xgb_model.predict(x_test)\n",
    "\n",
    "# accuracy score\n",
    "xgb_score = accuracy_score(xgb_y_predict, y_test)\n",
    "auc = metrics.roc_auc_score(y_test, xgb_y_predict)\n",
    "print(auc)\n",
    "print(xgb_score)"
   ]
  },
  {
   "cell_type": "code",
   "execution_count": null,
   "id": "460dd635",
   "metadata": {},
   "outputs": [],
   "source": []
  }
 ],
 "metadata": {
  "kernelspec": {
   "display_name": "Python 3 (ipykernel)",
   "language": "python",
   "name": "python3"
  },
  "language_info": {
   "codemirror_mode": {
    "name": "ipython",
    "version": 3
   },
   "file_extension": ".py",
   "mimetype": "text/x-python",
   "name": "python",
   "nbconvert_exporter": "python",
   "pygments_lexer": "ipython3",
   "version": "3.11.5"
  }
 },
 "nbformat": 4,
 "nbformat_minor": 5
}

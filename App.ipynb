{
 "cells": [
  {
   "cell_type": "code",
   "execution_count": null,
   "id": "5fa946de",
   "metadata": {},
   "outputs": [
    {
     "name": "stdout",
     "output_type": "stream",
     "text": [
      " * Serving Flask app '__main__'\n",
      " * Debug mode: off\n"
     ]
    },
    {
     "name": "stderr",
     "output_type": "stream",
     "text": [
      "WARNING: This is a development server. Do not use it in a production deployment. Use a production WSGI server instead.\n",
      " * Running on http://127.0.0.1:5000\n",
      "Press CTRL+C to quit\n",
      "127.0.0.1 - - [12/Oct/2023 09:14:17] \"GET / HTTP/1.1\" 200 -\n"
     ]
    }
   ],
   "source": [
    "import numpy\n",
    "from flask import Flask, request, render_template\n",
    "import pickle\n",
    "import pandas as pd\n",
    "import csv \n",
    "\n",
    "app = Flask(__name__)\n",
    "\n",
    "model = pickle.load(open('model/Model_ml.pkl', 'rb'))\n",
    "type_model=pickle.load(open('model/Model_class_ml.pkl', 'rb'))\n",
    "\n",
    "@app.route('/')\n",
    "def home():\n",
    "    return render_template('index.html')\n",
    "\n",
    "@app.route('/predict', methods=['POST'])\n",
    "def predict():\n",
    "    df = pd.DataFrame({\n",
    "        'typeofaction': [1 if request.form['typeofaction'] == \"cash-in\" else 0],\n",
    "        'sourceid': [int(request.form['sourceid'])],\n",
    "        'destinationid': [int(request.form['destinationid'])],\n",
    "        'amountofmoney': [float(request.form['amountofmoney'])]\n",
    "        \n",
    "    })\n",
    "    \n",
    "    prediction = model.predict(df)\n",
    "    prediction_text = \"Not Fraud\" if prediction[0] == 0 else \"Fraud\"\n",
    "    if prediction_text=='Fraud':\n",
    "        df['isfraud']=1\n",
    "    if prediction_text=='Not Fraud':\n",
    "        df['isfraud']=0\n",
    "        \n",
    "    print(df)\n",
    "    if prediction_text == \"Fraud\":\n",
    "        print('Fraud')\n",
    "        prediction_text += str(type_model.predict(df))\n",
    "    type_mapping = {\"['type3']\": 'Type3',\"['type2']\": 'Type2',\"['type1']\": 'Type1'}\n",
    "    with open('data/banktransaction.csv', 'a', newline='') as csvfile:\n",
    "        fieldnames = ['typeofaction','sourceid', 'destinationid', 'amountofmoney','isfraud','typeoffraud']\n",
    "        writer = csv.DictWriter(csvfile, fieldnames=fieldnames)\n",
    "        writer.writerow({'typeofaction':'cash-in' if df['typeofaction'].values[0] == 1 else 'transfer','sourceid': df['sourceid'].values[0], 'destinationid': df['destinationid'].values[0], \n",
    "                         'amountofmoney': df['amountofmoney'].values[0], 'isfraud':df['isfraud'].values[0],'typeoffraud': 'none' if df['isfraud'].values[0] == 0 else type_mapping.get(type_model.predict(df), \"Unknown Type\")})\n",
    "\n",
    "\n",
    "\n",
    "    return render_template('index.html', prediction_text=f'{prediction_text}')\n",
    "@app.route('/feedback', methods=['POST'])\n",
    "def feedback():\n",
    "    fd = pd.DataFrame({\n",
    "        'feedback': [1 if request.form['typeofaction'] == \"Not-Fraud\" else 'Fraud'],\n",
    "        'sourceid': [int(request.form['sourceid'])],\n",
    "        'destinationid': [int(request.form['destinationid'])]})  \n",
    "    with open('data/Feedback.csv', 'a', newline='') as csvfile:\n",
    "        fieldnames = ['sourceid', 'destinationid', 'feedback']\n",
    "        writer = csv.DictWriter(csvfile, fieldnames=fieldnames)\n",
    "        writer.writerow({'sourceid': fd['sourceid'].values[0], 'destinationid': fd['destinationid'].values[0], 'feedback': fd['feedback'].values[0]})\n",
    "\n",
    "\n",
    "    return render_template('index.html')\n",
    "if __name__ == \"__main__\":\n",
    "    app.run()"
   ]
  },
  {
   "cell_type": "code",
   "execution_count": null,
   "id": "11b7c48c",
   "metadata": {},
   "outputs": [],
   "source": []
  }
 ],
 "metadata": {
  "kernelspec": {
   "display_name": "Python 3 (ipykernel)",
   "language": "python",
   "name": "python3"
  },
  "language_info": {
   "codemirror_mode": {
    "name": "ipython",
    "version": 3
   },
   "file_extension": ".py",
   "mimetype": "text/x-python",
   "name": "python",
   "nbconvert_exporter": "python",
   "pygments_lexer": "ipython3",
   "version": "3.11.5"
  }
 },
 "nbformat": 4,
 "nbformat_minor": 5
}
